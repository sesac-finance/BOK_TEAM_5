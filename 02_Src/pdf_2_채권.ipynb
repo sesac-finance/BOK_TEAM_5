{
 "cells": [
  {
   "cell_type": "code",
   "execution_count": null,
   "metadata": {},
   "outputs": [],
   "source": [
    "from io import StringIO\n",
    "\n",
    "from pdfminer.converter import TextConverter\n",
    "from pdfminer.layout import LAParams\n",
    "from pdfminer.pdfdocument import PDFDocument\n",
    "from pdfminer.pdfinterp import PDFResourceManager, PDFPageInterpreter\n",
    "from pdfminer.pdfpage import PDFPage\n",
    "from pdfminer.pdfparser import PDFParser\n",
    "import os\n",
    "\n",
    "import os\n",
    "file_list = os.listdir('./채권보고서')\n",
    "\n",
    "count = 0\n",
    "for file in file_list:\n",
    "    count+=1\n",
    "    output_string = StringIO()\n",
    "    \n",
    "    with open(f'./채권보고서/{file}', 'rb') as in_file:\n",
    "        parser = PDFParser(in_file)\n",
    "        doc = PDFDocument(parser)\n",
    "        rsrcmgr = PDFResourceManager()\n",
    "        device = TextConverter(rsrcmgr, output_string, laparams=LAParams())\n",
    "        interpreter = PDFPageInterpreter(rsrcmgr, device)\n",
    "        for page in PDFPage.create_pages(doc):\n",
    "            interpreter.process_page(page)\n",
    "    name = file[:-4].split('_')\n",
    "    file_name = f'{name[0]}_{name[1][:2]}-{name[1][3:5]}-{name[1][6:8]}'\n",
    "    \n",
    "    text = output_string.getvalue()\n",
    "\n",
    "    with open(f'./conver_txt_채권/{file_name}.txt','w',encoding='utf-8') as txt:\n",
    "        print(text,file=txt)\n",
    "        print('!!!',count,file_name)\n"
   ]
  }
 ],
 "metadata": {
  "kernelspec": {
   "display_name": "Python 3.10.4 ('s_study')",
   "language": "python",
   "name": "python3"
  },
  "language_info": {
   "name": "python",
   "version": "3.10.4"
  },
  "orig_nbformat": 4,
  "vscode": {
   "interpreter": {
    "hash": "d6006f95bfff2514fb4eca4ee299b85ec7882bfed1a4856f404de985b4cfda43"
   }
  }
 },
 "nbformat": 4,
 "nbformat_minor": 2
}
